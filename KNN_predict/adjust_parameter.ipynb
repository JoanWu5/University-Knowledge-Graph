{
 "cells": [
  {
   "cell_type": "code",
   "execution_count": null,
   "metadata": {},
   "outputs": [
    {
     "ename": "Error",
     "evalue": "Jupyter cannot be started. Error attempting to locate jupyter: Data Science library notebook is not installed in interpreter Python 3.7.6 64-bit.",
     "output_type": "error",
     "traceback": [
      "Error: Jupyter cannot be started. Error attempting to locate jupyter: Data Science library notebook is not installed in interpreter Python 3.7.6 64-bit.",
      "at A.startServer (c:\\Users\\joann\\.vscode\\extensions\\ms-python.python-2020.2.64397\\out\\client\\extension.js:1:786120)",
      "at async A.ensureServerAndNotebookImpl (c:\\Users\\joann\\.vscode\\extensions\\ms-python.python-2020.2.64397\\out\\client\\extension.js:1:785575)"
     ]
    }
   ],
   "source": [
    "# coding: utf-8\n",
    "from classifier import Classifier\n",
    "from neo_models import Neo4j\n",
    "from random import shuffle\n",
    "from time import time"
   ]
  },
  {
   "cell_type": "code",
   "execution_count": null,
   "metadata": {},
   "outputs": [
    {
     "ename": "Error",
     "evalue": "Jupyter cannot be started. Error attempting to locate jupyter: Data Science library notebook is not installed in interpreter Python 3.7.6 64-bit.",
     "output_type": "error",
     "traceback": [
      "Error: Jupyter cannot be started. Error attempting to locate jupyter: Data Science library notebook is not installed in interpreter Python 3.7.6 64-bit.",
      "at A.startServer (c:\\Users\\joann\\.vscode\\extensions\\ms-python.python-2020.2.64397\\out\\client\\extension.js:1:786120)",
      "at async A.ensureServerAndNotebookImpl (c:\\Users\\joann\\.vscode\\extensions\\ms-python.python-2020.2.64397\\out\\client\\extension.js:1:785575)"
     ]
    }
   ],
   "source": [
    "# 读取neo4j内容\n",
    "db = Neo4j()\n",
    "db.connectDB()\n",
    "data_set = db.getLabeledSchoolItem('labels.txt')"
   ]
  },
  {
   "cell_type": "code",
   "execution_count": null,
   "metadata": {},
   "outputs": [
    {
     "ename": "Error",
     "evalue": "Jupyter cannot be started. Error attempting to locate jupyter: Data Science library notebook is not installed in interpreter Python 3.7.6 64-bit.",
     "output_type": "error",
     "traceback": [
      "Error: Jupyter cannot be started. Error attempting to locate jupyter: Data Science library notebook is not installed in interpreter Python 3.7.6 64-bit.",
      "at A.startServer (c:\\Users\\joann\\.vscode\\extensions\\ms-python.python-2020.2.64397\\out\\client\\extension.js:1:786120)",
      "at async A.ensureServerAndNotebookImpl (c:\\Users\\joann\\.vscode\\extensions\\ms-python.python-2020.2.64397\\out\\client\\extension.js:1:785575)"
     ]
    }
   ],
   "source": [
    "# 读取fasttext的模型\n",
    "shuffle(data_set)\n",
    "length = int(len(data_set)/10)\n",
    "\n",
    "vis = []  # 记录下每个label出现次数，控制每个label出现的个数\n",
    "for i in range(17):\n",
    "    vis.append(0)\n",
    "\n",
    "cur = []  # 让每类样本尽量分布均匀\n",
    "for p in data_set:\n",
    "    label = p.label\n",
    "    if vis[int(label)] > 30 and int(label) != 0:\n",
    "        continue\n",
    "    if vis[int(label)] > 50 and int(label) == 0:\n",
    "        continue\n",
    "    vis[int(label)] += 1\n",
    "    cur.append(p)\n",
    "    \n",
    "data_set = cur\n",
    "print(len(data_set))\n",
    "# split = len(data_set)*199/200\n",
    "# split = int(split) # 切分点\n",
    "# print(split)\n",
    "# train_set = data_set[:split]\n",
    "# test_set = data_set[split:]\n",
    "classifier = Classifier('wiki.zh.bin')"
   ]
  },
  {
   "cell_type": "code",
   "execution_count": null,
   "metadata": {},
   "outputs": [
    {
     "ename": "Error",
     "evalue": "Jupyter cannot be started. Error attempting to locate jupyter: Data Science library notebook is not installed in interpreter Python 3.7.6 64-bit.",
     "output_type": "error",
     "traceback": [
      "Error: Jupyter cannot be started. Error attempting to locate jupyter: Data Science library notebook is not installed in interpreter Python 3.7.6 64-bit.",
      "at A.startServer (c:\\Users\\joann\\.vscode\\extensions\\ms-python.python-2020.2.64397\\out\\client\\extension.js:1:786120)",
      "at async A.ensureServerAndNotebookImpl (c:\\Users\\joann\\.vscode\\extensions\\ms-python.python-2020.2.64397\\out\\client\\extension.js:1:785575)"
     ]
    }
   ],
   "source": [
    "def cross_verification(k_cv,data_set,W,k_num):  # k折叠交叉验证\n",
    "    length = int(len(data_set)/k_cv)\n",
    "    l = 0\n",
    "    aver = 0.0\n",
    "    for i in range(k_cv):\n",
    "        train_set = data_set[:length*i]\n",
    "        test_set = data_set[length*i:length*(i+1)]\n",
    "        train_set.extend(data_set[length*(i+1):])\n",
    "        classifier.load_trainSet(train_set)\n",
    "        classifier.set_parameter(weight=W,k=k_num)\n",
    "        count = 0\n",
    "        for p in test_set:\n",
    "            predict = classifier.KNN_predict(p)\n",
    "            if predict==int(p.label):\n",
    "                count += 1\n",
    "            #print(str(p.title)+\" \"+str(predict)+\"  \"+str(p.label))\n",
    "        precision = 1.0*count/len(test_set)\n",
    "        aver += precision\n",
    "      #  print(\"precision: \"+str(1.0*count/len(test_set)*100)+\"%\")\n",
    "    aver /= k_cv\n",
    "   # print(\"aver precision:\"+str(aver*100)+\"%\")\n",
    "    return aver\n",
    "    "
   ]
  },
  {
   "cell_type": "code",
   "execution_count": null,
   "metadata": {},
   "outputs": [
    {
     "ename": "Error",
     "evalue": "Jupyter cannot be started. Error attempting to locate jupyter: Data Science library notebook is not installed in interpreter Python 3.7.6 64-bit.",
     "output_type": "error",
     "traceback": [
      "Error: Jupyter cannot be started. Error attempting to locate jupyter: Data Science library notebook is not installed in interpreter Python 3.7.6 64-bit.",
      "at A.startServer (c:\\Users\\joann\\.vscode\\extensions\\ms-python.python-2020.2.64397\\out\\client\\extension.js:1:786120)",
      "at async A.ensureServerAndNotebookImpl (c:\\Users\\joann\\.vscode\\extensions\\ms-python.python-2020.2.64397\\out\\client\\extension.js:1:785575)"
     ]
    }
   ],
   "source": [
    "import logging\n",
    "logging.basicConfig(level=logging.DEBUG,\n",
    "                format='%(asctime)s %(filename)s[line:%(lineno)d] %(levelname)s %(message)s',\n",
    "                datefmt='%a, %d %b %Y %H:%M:%S',\n",
    "                filename='mylog.log',\n",
    "                filemode='w')\n",
    "\n",
    "console = logging.StreamHandler()\n",
    "console.setLevel(logging.INFO)\n",
    "formatter = logging.Formatter('%(name)-12s: %(levelname)-8s %(message)s')\n",
    "console.setFormatter(formatter)\n",
    "logging.getLogger('').addHandler(console)\n",
    "\n",
    "grid_list = [0.1,0.3,1.,3.,10]\n",
    "W = [0.,0.,0.,0.,0.]\n",
    "ans = 0.\n",
    "ans_W = [0.,0.,0.,0.,0.]\n",
    "count = 0\n",
    "k = 10  # knn的k\n",
    "\n",
    "for w2 in grid_list:\n",
    "    for w3 in grid_list:\n",
    "        for w4 in grid_list:\n",
    "            W = [1.0,w2,w3,w4,0.]\n",
    "            cur = cross_verification(10,data_set,W,k)\n",
    "            if cur > ans:\n",
    "                ans = cur\n",
    "                ans_W = W\n",
    "                ans_k = k\n",
    "            count += 1\n",
    "            logging.info(\"count:\"+str(count)+\"precision: \"+str(cur)+\" now answer: \"+\" w=\"+str(ans_W))\n"
   ]
  },
  {
   "cell_type": "code",
   "execution_count": null,
   "metadata": {},
   "outputs": [
    {
     "ename": "Error",
     "evalue": "Jupyter cannot be started. Error attempting to locate jupyter: Data Science library notebook is not installed in interpreter Python 3.7.6 64-bit.",
     "output_type": "error",
     "traceback": [
      "Error: Jupyter cannot be started. Error attempting to locate jupyter: Data Science library notebook is not installed in interpreter Python 3.7.6 64-bit.",
      "at A.startServer (c:\\Users\\joann\\.vscode\\extensions\\ms-python.python-2020.2.64397\\out\\client\\extension.js:1:786120)",
      "at async A.ensureServerAndNotebookImpl (c:\\Users\\joann\\.vscode\\extensions\\ms-python.python-2020.2.64397\\out\\client\\extension.js:1:785575)"
     ]
    }
   ],
   "source": [
    "cur = cross_verification(10,data_set,[1.,2.,0.,2.,0],10)\n",
    "ans = -7\n",
    "ans_W = None\n",
    "ans_k = None\n",
    "if cur > ans:\n",
    "    ans = cur\n",
    "    ans_W = W\n",
    "    ans_k = k\n",
    "logging.info(\"count:\"+str(count)+\"precision: \"+str(cur)+\" now answer: \"+\" w=\"+str(ans_W))\n",
    "\n"
   ]
  },
  {
   "cell_type": "code",
   "execution_count": null,
   "metadata": {},
   "outputs": [
    {
     "ename": "Error",
     "evalue": "Jupyter cannot be started. Error attempting to locate jupyter: Data Science library notebook is not installed in interpreter Python 3.7.6 64-bit.",
     "output_type": "error",
     "traceback": [
      "Error: Jupyter cannot be started. Error attempting to locate jupyter: Data Science library notebook is not installed in interpreter Python 3.7.6 64-bit.",
      "at A.startServer (c:\\Users\\joann\\.vscode\\extensions\\ms-python.python-2020.2.64397\\out\\client\\extension.js:1:786120)",
      "at async A.ensureServerAndNotebookImpl (c:\\Users\\joann\\.vscode\\extensions\\ms-python.python-2020.2.64397\\out\\client\\extension.js:1:785575)"
     ]
    }
   ],
   "source": [
    "from School_class import SchoolItem\n",
    "p1 = SchoolItem(db.matchSchoolItembyTitle('旗月鱼'))\n",
    "p2 = SchoolItem(db.matchSchoolItembyTitle('终霜'))\n",
    "classifier.set_parameter(weight=[0.2,0.2,0.2,0.2,0.0],k=10)\n",
    "classifier.KNN_predict(p2)"
   ]
  },
  {
   "cell_type": "code",
   "execution_count": null,
   "metadata": {
    "collapsed": true
   },
   "outputs": [],
   "source": []
  }
 ],
 "metadata": {
  "kernelspec": {
   "display_name": "Python 3",
   "language": "python",
   "name": "python3"
  },
  "language_info": {
   "codemirror_mode": {
    "name": "ipython",
    "version": 3
   },
   "file_extension": ".py",
   "mimetype": "text/x-python",
   "name": "python",
   "nbconvert_exporter": "python",
   "pygments_lexer": "ipython3",
   "version": "3.6.2"
  }
 },
 "nbformat": 4,
 "nbformat_minor": 2
}